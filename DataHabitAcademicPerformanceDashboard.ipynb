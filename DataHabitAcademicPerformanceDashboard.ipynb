{
 "cells": [
  {
   "cell_type": "markdown",
   "id": "fe63cceb-1d54-406e-94e8-f74302f946cf",
   "metadata": {},
   "source": [
    "Dash App Summary: Student Habits and Academic Performance"
   ]
  },
  {
   "cell_type": "markdown",
   "id": "88d81189-6835-4f57-926d-8953d35e69b3",
   "metadata": {},
   "source": [
    "Goal of the App:"
   ]
  },
  {
   "cell_type": "markdown",
   "id": "a37d39b0-6f7a-4af8-a3be-ac19f4f87ebf",
   "metadata": {},
   "source": [
    "This Dash app creates an interactive dashboard that visualizes how student habits, such as study\n",
    "hours, sleep, and social media use relate to academic outcomes like exam scores, attendance, and\n",
    "mental health."
   ]
  },
  {
   "cell_type": "markdown",
   "id": "1dd628f3-3cc9-453a-9541-d4201a7047ce",
   "metadata": {},
   "source": [
    "1. Imports and Setup"
   ]
  },
  {
   "cell_type": "code",
   "execution_count": 18,
   "id": "cd2ac6ff-f37d-496f-8213-226e50f56a99",
   "metadata": {},
   "outputs": [],
   "source": [
    "import pandas as pd\n",
    "import dash \n",
    "from dash import Dash,dcc,html\n",
    "from dash.dependencies import Input, Output\n",
    "import plotly.express as px\n",
    "import plotly.graph_objects as go\n",
    "import warnings\n",
    "warnings.filterwarnings(\"ignore\", category=DeprecationWarning)"
   ]
  },
  {
   "cell_type": "markdown",
   "id": "1cbd3af7-e959-45e4-afcd-7c5585414343",
   "metadata": {},
   "source": [
    "The script imports necessary libraries: pandas for data handling, dash and its components for web\n",
    "interface, and plotly for visualization. It also suppresses unnecessary deprecation warnings."
   ]
  },
  {
   "cell_type": "markdown",
   "id": "48efb4b5-5dc5-4b3e-b510-500fb7db0a48",
   "metadata": {},
   "source": [
    "2. The Dataset"
   ]
  },
  {
   "cell_type": "code",
   "execution_count": 19,
   "id": "a3a53ac2-9702-4927-a656-6872c2d6f9c1",
   "metadata": {},
   "outputs": [],
   "source": [
    "df=pd.read_excel(\"DataHabitAcadamicPerm.xlsx\")"
   ]
  },
  {
   "cell_type": "markdown",
   "id": "7f4ecdca-48ef-4374-b991-0412425a6fbb",
   "metadata": {},
   "source": [
    "It loads data from an Excel file named 'DataHabitAcadamicPerm.xlsx' into a DataFrame using\n",
    "pandas."
   ]
  },
  {
   "cell_type": "markdown",
   "id": "de73c220-0021-4058-bf77-fb6b103e186d",
   "metadata": {},
   "source": [
    "3.  Dash App Initialization"
   ]
  },
  {
   "cell_type": "code",
   "execution_count": 20,
   "id": "d705595d-4f5b-4ff2-ab88-24e5d0f20312",
   "metadata": {},
   "outputs": [],
   "source": [
    "app = Dash(__name__)\n",
    "external_stylesheets = [\"https://cdn.jsdelivr.net/npm/bootstrap@5.3.1/dist/css/bootstrap.min.css\"]\n",
    "app = Dash(__name__, external_stylesheets=external_stylesheets,)"
   ]
  },
  {
   "cell_type": "markdown",
   "id": "c090e3d7-6fee-4d03-9e44-d6598f56be0b",
   "metadata": {},
   "source": [
    "The Dash app is initialized with an external Bootstrap stylesheet for better styling."
   ]
  },
  {
   "cell_type": "markdown",
   "id": "535259ab-300a-4e76-a11c-68f3c8fd0879",
   "metadata": {},
   "source": [
    "4. Layout for Each Tab"
   ]
  },
  {
   "cell_type": "markdown",
   "id": "b1260ca3-fdd4-42a5-bc96-5906de99a80e",
   "metadata": {},
   "source": [
    "Each function returns a layout with a scatter plot created using Plotly Express."
   ]
  },
  {
   "cell_type": "markdown",
   "id": "830e236f-bd50-4bba-b6b9-a35788f7df4b",
   "metadata": {},
   "source": [
    "Tab 1: Study Hours vs Exam Score, colored by gender"
   ]
  },
  {
   "cell_type": "code",
   "execution_count": 21,
   "id": "dcad39a1-c32f-4429-8e3a-e5712d1e0fdd",
   "metadata": {},
   "outputs": [],
   "source": [
    "def update_graph1(tab):\n",
    "    if tab=='tab1':\n",
    "        return px.scatter(df, x='study_hours_per_day', y='exam_score',\n",
    "                color='gender', trendline='ols',\n",
    "                color_discrete_sequence=['#FF6361', '#58508D'],        \n",
    "                title='Study Hours vs Exam Score')"
   ]
  },
  {
   "cell_type": "markdown",
   "id": "c9f5c5d2-d490-4230-8625-8f1593a7bc8f",
   "metadata": {},
   "source": [
    "This scatter plot shows how study time affects exam scores."
   ]
  },
  {
   "cell_type": "markdown",
   "id": "6d13f15a-8f7d-4dad-ae80-d2ac80ecf6c4",
   "metadata": {},
   "source": [
    "Tab 2: Social Media Hours vs Mental Health, colored by part-time job."
   ]
  },
  {
   "cell_type": "code",
   "execution_count": 22,
   "id": "e53dd05e-1caf-4f99-b777-96b3baec8cca",
   "metadata": {},
   "outputs": [],
   "source": [
    "def update_graph2(tab):\n",
    "   if tab=='tab2':\n",
    "        return px.scatter(df, x='social_media_hours', y='mental_health_rating',\n",
    "                     color='part_time_job', trendline='ols',color_discrete_sequence=['#2ca02c', '#d62728'],\n",
    "                     title='Social Media vs Mental Health')"
   ]
  },
  {
   "cell_type": "markdown",
   "id": "f408407f-1255-4743-8ee9-a79d0cde240b",
   "metadata": {},
   "source": [
    "This scatter plot examines the relationship between social media usage and mental health. "
   ]
  },
  {
   "cell_type": "markdown",
   "id": "99940f77-dd5b-4b25-90d9-5e6bce10b7a1",
   "metadata": {},
   "source": [
    "Tab 3: Sleep Hours vs Attendance, colored by diet quality."
   ]
  },
  {
   "cell_type": "code",
   "execution_count": 23,
   "id": "d2449997-784b-4cf5-bf0a-b97fc06f3a43",
   "metadata": {},
   "outputs": [],
   "source": [
    "def update_graph3(tab):\n",
    "    if tab=='tab3':\n",
    "        return px.scatter(df, x='sleep_hours', y='attendance_percentage',\n",
    "                     color='diet_quality', trendline='ols',color_discrete_sequence=['#17becf', '#bcbd22', '#ff7f0e'],\n",
    "                     title='Sleep Hours vs Attendance')"
   ]
  },
  {
   "cell_type": "markdown",
   "id": "7f383ff0-3957-47ee-9096-a7c3f5e045ef",
   "metadata": {},
   "source": [
    "This scatter plot shows how sleep duration impacts attendance. "
   ]
  },
  {
   "cell_type": "markdown",
   "id": "e94fd738-7295-4ed4-80cd-db36b35886da",
   "metadata": {},
   "source": [
    "5. Main Layout with Tabs"
   ]
  },
  {
   "cell_type": "code",
   "execution_count": 24,
   "id": "69e7a376-641b-4102-8530-a061050d9998",
   "metadata": {},
   "outputs": [],
   "source": [
    "app.layout = html.Div([\n",
    "        html.H1(\"Student Habit & Academic Dashboard\", style={'textAlign':'Center'}),\n",
    "        dcc.Tabs(id='tabs',value='tab1',\n",
    "                children=[\n",
    "                dcc.Tab(label='Study vs Exam Score',value='tab1'),\n",
    "                dcc.Tab(label='Social Media vs Mental Health',value='tab2'),\n",
    "                dcc.Tab(label='Sleep vs Attendance',value='tab3')\n",
    "        ]),\n",
    "             html.Div(id='tab-content')\n",
    "        ])"
   ]
  },
  {
   "cell_type": "markdown",
   "id": "7777a758-2c08-4295-a7fa-e1d51205e07f",
   "metadata": {},
   "source": [
    "The app layout includes a title and three tabs using dcc.Tabs. The content area (tab-content) is\n",
    "updated dynamically based on the selected tab"
   ]
  },
  {
   "cell_type": "markdown",
   "id": "084bb9d8-172a-4639-9bcb-6c3638f323b2",
   "metadata": {},
   "source": [
    "6. Tab Switching Callback"
   ]
  },
  {
   "cell_type": "code",
   "execution_count": 25,
   "id": "207c1d80-3175-4b96-a559-896f4d90f737",
   "metadata": {},
   "outputs": [],
   "source": [
    "@app.callback(\n",
    "    Output('tab-content', 'children'),\n",
    "    Input('tabs', 'value')\n",
    ")\n",
    "def render_content(tab):\n",
    "    if tab=='tab1':\n",
    "        return tab1_layout()\n",
    "    elif tab=='tab2':\n",
    "        return tab2_layout()\n",
    "    elif tab=='tab3':\n",
    "        return tab3_layout()"
   ]
  },
  {
   "cell_type": "markdown",
   "id": "b6eb66c9-1393-4e78-935e-bfc0765171e9",
   "metadata": {},
   "source": [
    "A callback function listens to tab changes and updates the tab-content with the appropriate plot\n",
    "layout function."
   ]
  },
  {
   "cell_type": "markdown",
   "id": "32aa35dd-0cca-49dd-9254-802697f25bb1",
   "metadata": {},
   "source": [
    "7. App Running"
   ]
  },
  {
   "cell_type": "markdown",
   "id": "2e7298eb-98ce-46cc-9f19-7ef043f9e54f",
   "metadata": {},
   "source": [
    "The app is launched using app.run(). Debug mode is enabled for live code updates during\n",
    "development"
   ]
  },
  {
   "cell_type": "code",
   "execution_count": null,
   "id": "a8f02caf-4f25-45e4-9183-9152e78d6310",
   "metadata": {},
   "outputs": [],
   "source": [
    "if __name__ == '__main__':\n",
    "    app.run(debug=True, use_reloader=False)"
   ]
  },
  {
   "cell_type": "markdown",
   "id": "c53f53f9-cac2-4319-9a51-ae3298bb8433",
   "metadata": {},
   "source": [
    "Here is the full coding scripts to run this dash app:"
   ]
  },
  {
   "cell_type": "code",
   "execution_count": 35,
   "id": "b60c3438-ea70-4ee0-ba74-28e83f7d53e1",
   "metadata": {},
   "outputs": [
    {
     "data": {
      "text/html": [
       "\n",
       "        <iframe\n",
       "            width=\"100%\"\n",
       "            height=\"650\"\n",
       "            src=\"http://127.0.0.1:8050/\"\n",
       "            frameborder=\"0\"\n",
       "            allowfullscreen\n",
       "            \n",
       "        ></iframe>\n",
       "        "
      ],
      "text/plain": [
       "<IPython.lib.display.IFrame at 0x264c04dd950>"
      ]
     },
     "metadata": {},
     "output_type": "display_data"
    }
   ],
   "source": [
    "import pandas as pd\n",
    "import dash \n",
    "from dash import Dash,dcc,html\n",
    "from dash.dependencies import Input, Output\n",
    "import plotly.express as px\n",
    "import plotly.graph_objects as go\n",
    "import warnings\n",
    "warnings.filterwarnings(\"ignore\", category=DeprecationWarning)\n",
    "\n",
    "app = Dash(__name__)\n",
    "external_stylesheets = [\"https://cdn.jsdelivr.net/npm/bootstrap@5.3.1/dist/css/bootstrap.min.css\"]\n",
    "app = Dash(__name__, external_stylesheets=external_stylesheets,)\n",
    "\n",
    "\n",
    "\n",
    "################### DATASET ####################################\n",
    "df=pd.read_excel(\"DataHabitAcadamicPerm.xlsx\")\n",
    "\n",
    "#################### CHARTS #####################################\n",
    "def tab1_layout():\n",
    "    return html.Div([dcc.Graph(id='graph1')])\n",
    "\n",
    "def tab2_layout():\n",
    "    return html.Div([dcc.Graph(id='graph2')])\n",
    "\n",
    "def tab3_layout():\n",
    "    return html.Div([dcc.Graph(id='graph3')])\n",
    "\n",
    "##################### APP LAYOUT ####################################\n",
    "app.layout = html.Div([\n",
    "        html.H1(\"Student Habit & Academic Dashboard\", style={'textAlign':'Center'}),\n",
    "        dcc.Tabs(id='tabs',value='tab1',\n",
    "                children=[\n",
    "                dcc.Tab(label='Study vs Exam Score',value='tab1'),\n",
    "                dcc.Tab(label='Social Media vs Mental Health',value='tab2'),\n",
    "                dcc.Tab(label='Sleep vs Attendance',value='tab3')\n",
    "        ]),\n",
    "             html.Div(id='tab-content')\n",
    "        ])\n",
    "\n",
    "##################### CALLBACKS ####################################\n",
    "@app.callback(\n",
    "    Output('tab-content', 'children'),\n",
    "    Input('tabs', 'value')\n",
    ")\n",
    "def render_content(tab):\n",
    "    if tab=='tab1':\n",
    "        return tab1_layout()\n",
    "    elif tab=='tab2':\n",
    "        return tab2_layout()\n",
    "    elif tab=='tab3':\n",
    "        return tab3_layout()\n",
    "\n",
    "@app.callback(\n",
    "    Output('graph1', 'figure'),\n",
    "    Input('tabs', 'value')\n",
    ")\n",
    "def update_graph1(tab):\n",
    "    if tab=='tab1':\n",
    "        return px.scatter(df, x='study_hours_per_day', y='exam_score',\n",
    "                color='gender', trendline='ols',\n",
    "                color_discrete_sequence=['#FF6361', '#58508D'],        \n",
    "                title='Study Hours vs Exam Score')\n",
    "\n",
    "@app.callback(\n",
    "    Output('graph2', 'figure'),\n",
    "    Input('tabs', 'value')\n",
    ")\n",
    "def update_graph2(tab):\n",
    "   if tab=='tab2':\n",
    "        return px.scatter(df, x='social_media_hours', y='mental_health_rating',\n",
    "                     color='part_time_job', trendline='ols',color_discrete_sequence=['#2ca02c', '#d62728'],\n",
    "                     title='Social Media vs Mental Health')\n",
    "       \n",
    "@app.callback(\n",
    "    Output('graph3', 'figure'),\n",
    "    Input('tabs', 'value')\n",
    ")\n",
    "def update_graph3(tab):\n",
    "    if tab=='tab3':\n",
    "        return px.scatter(df, x='sleep_hours', y='attendance_percentage',\n",
    "                     color='diet_quality', trendline='ols',color_discrete_sequence=['#17becf', '#bcbd22', '#ff7f0e'],\n",
    "                     title='Sleep Hours vs Attendance')\n",
    "   \n",
    "if __name__ == '__main__':\n",
    "    app.run(debug=True, use_reloader=False)"
   ]
  },
  {
   "cell_type": "markdown",
   "id": "564d27ca-b240-4eb3-b06f-6f2b6a6a828c",
   "metadata": {},
   "source": [
    "Summary:"
   ]
  },
  {
   "cell_type": "markdown",
   "id": "35f05fc7-5579-434a-a451-22bbcdf8b4f4",
   "metadata": {},
   "source": [
    "This app effectively demonstrates the use of Dash and Plotly for interactive data visualization.\n",
    "It helps analyze how daily habits influence academic metrics using clear, tabbed scatter plots."
   ]
  }
 ],
 "metadata": {
  "kernelspec": {
   "display_name": "Python 3 (ipykernel)",
   "language": "python",
   "name": "python3"
  },
  "language_info": {
   "codemirror_mode": {
    "name": "ipython",
    "version": 3
   },
   "file_extension": ".py",
   "mimetype": "text/x-python",
   "name": "python",
   "nbconvert_exporter": "python",
   "pygments_lexer": "ipython3",
   "version": "3.13.2"
  }
 },
 "nbformat": 4,
 "nbformat_minor": 5
}
